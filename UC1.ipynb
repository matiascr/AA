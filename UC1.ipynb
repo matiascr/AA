{
  "nbformat": 4,
  "nbformat_minor": 0,
  "metadata": {
    "colab": {
      "name": "UC1.ipynb",
      "provenance": [],
      "authorship_tag": "ABX9TyO8dP5Y+5lXS22dp8TtmPnT",
      "include_colab_link": true
    },
    "kernelspec": {
      "name": "python3",
      "display_name": "Python 3"
    }
  },
  "cells": [
    {
      "cell_type": "markdown",
      "metadata": {
        "id": "view-in-github",
        "colab_type": "text"
      },
      "source": [
        "<a href=\"https://colab.research.google.com/github/matiascr/AA/blob/master/UC1.ipynb\" target=\"_parent\"><img src=\"https://colab.research.google.com/assets/colab-badge.svg\" alt=\"Open In Colab\"/></a>"
      ]
    },
    {
      "cell_type": "markdown",
      "metadata": {
        "id": "H2CvKJgNA8WR",
        "colab_type": "text"
      },
      "source": [
        "Setup"
      ]
    },
    {
      "cell_type": "code",
      "metadata": {
        "id": "ssCb8ZuV81dm",
        "colab_type": "code",
        "colab": {}
      },
      "source": [
        "from sklearn import preprocessing\n",
        "import numpy as np\n",
        "import pandas as pd\n"
      ],
      "execution_count": 6,
      "outputs": []
    },
    {
      "cell_type": "markdown",
      "metadata": {
        "id": "5SlC5dZj9Om7",
        "colab_type": "text"
      },
      "source": [
        "# Descripción de variables y valores estadísticos"
      ]
    },
    {
      "cell_type": "code",
      "metadata": {
        "id": "H1CPMi8n9btn",
        "colab_type": "code",
        "colab": {
          "base_uri": "https://localhost:8080/",
          "height": 85
        },
        "outputId": "6e4da858-71cb-4a2c-f054-147fbf4beecf"
      },
      "source": [
        "print(X_train.mean(axis=0))\n",
        "print(X_train_minmax.mean(axis=0))\n",
        "print(X_train.std(axis=0))\n",
        "print(X_train_minmax.std(axis=0))"
      ],
      "execution_count": 4,
      "outputs": [
        {
          "output_type": "stream",
          "text": [
            "[1.         0.         0.33333333]\n",
            "[0.5        0.5        0.44444444]\n",
            "[0.81649658 0.81649658 1.24721913]\n",
            "[0.40824829 0.40824829 0.41573971]\n"
          ],
          "name": "stdout"
        }
      ]
    }
  ]
}